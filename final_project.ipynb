{
 "cells": [
  {
   "cell_type": "code",
   "execution_count": null,
   "id": "b05c841c-4475-46bb-a5c1-e03ab5e5a85c",
   "metadata": {},
   "outputs": [],
   "source": [
    "import numpy as np\n",
    "import scipy as sc\n",
    "import os\n",
    "import math\n",
    "import cv2\n",
    "import matplotlib.pyplot as plt\n",
    "import dlib\n",
    "from numpy.linalg import svd, inv\n",
    "from scipy.spatial import ConvexHull\n",
    "\n",
    "np.set_printoptions(suppress=True)\n",
    "%matplotlib inline"
   ]
  },
  {
   "cell_type": "code",
   "execution_count": null,
   "id": "402cff9e-9e3c-45ea-84dc-083d7cfd8ab1",
   "metadata": {},
   "outputs": [],
   "source": [
    "img1_f = '.sources/.jpg'\n",
    "cage = cv2.cvtColor(cv2.imread(img1_f), cv2.COLOR_BGR2RGB)\n",
    "img1 = cv2.cvtColor(cage, cv2.COLOR_BGR2GRAY)\n",
    "\n",
    "img2_f = '.sources/.jpg'\n",
    "cage2 = cv2.cvtColor(cv2.imread(img2_f), cv2.COLOR_BGR2RGB)\n",
    "img2 = cv2.cvtColor(cage2, cv2.COLOR_BGR2GRAY)\n",
    "\n",
    "plt.figure()\n",
    "plt.imshow(img1, cmap='gray')\n",
    "\n",
    "plt.figure()\n",
    "plt.imshow(img2, cmap='gray')"
   ]
  }
 ],
 "metadata": {
  "kernelspec": {
   "display_name": "Python 3 (ipykernel)",
   "language": "python",
   "name": "python3"
  },
  "language_info": {
   "codemirror_mode": {
    "name": "ipython",
    "version": 3
   },
   "file_extension": ".py",
   "mimetype": "text/x-python",
   "name": "python",
   "nbconvert_exporter": "python",
   "pygments_lexer": "ipython3",
   "version": "3.9.13"
  }
 },
 "nbformat": 4,
 "nbformat_minor": 5
}
